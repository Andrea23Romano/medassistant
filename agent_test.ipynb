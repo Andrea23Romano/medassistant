{
 "cells": [
  {
   "cell_type": "code",
   "execution_count": 2,
   "metadata": {},
   "outputs": [
    {
     "name": "stdout",
     "output_type": "stream",
     "text": [
      "2024-12-16 19:49:44 - root - INFO - Environment variables loaded\n",
      "2024-12-16 19:49:44 - root - INFO - Generated session ID: e701deb6-4f15-4bfb-8028-c6d4de442848\n"
     ]
    },
    {
     "name": "stdout",
     "output_type": "stream",
     "text": [
      "2024-12-16 19:49:44 - root - INFO - DailyAgent initialized\n",
      "2024-12-16 19:49:44 - root - INFO - Using model: gpt-4\n",
      "2024-12-16 19:49:44 - root - INFO - Generating response from OpenAI\n",
      "2024-12-16 19:49:46 - httpx - INFO - HTTP Request: POST https://api.openai.com/v1/chat/completions \"HTTP/1.1 200 OK\"\n",
      "2024-12-16 19:49:46 - root - INFO - Assistant response added to chat history\n",
      "2024-12-16 19:49:46 - root - INFO - Successfully generated response from assistant\n",
      "system: You are a helpful assistant.\n",
      "user: Hello, how are you?\n",
      "assistant: Hello! As an artificial intelligence, I don't have feelings, but I'm here and ready to assist you. How can I help you today?\n",
      "2024-12-16 19:49:46 - root - INFO - Successfully connected to MongoDB database: medassistant\n",
      "2024-12-16 19:49:46 - root - INFO - Created new conversation with ID: 6760764a41ebd93c56cd4f95\n",
      "2024-12-16 19:49:46 - root - INFO - Created new conversation in MongoDB\n",
      "2024-12-16 19:49:46 - root - INFO - Conversation stored in MongoDB\n"
     ]
    }
   ],
   "source": [
    "from src.models import Message, ConversationEntry\n",
    "from src.openai import DailyAgent\n",
    "from src.logger import get_logger\n",
    "from datetime import datetime\n",
    "from dotenv import load_dotenv\n",
    "from src.mongo import MongoManager\n",
    "import os\n",
    "import uuid\n",
    "\n",
    "# Initialize logger\n",
    "logger = get_logger(name=None, log_level=\"INFO\")\n",
    "\n",
    "# Load environment variables from a .env file\n",
    "load_dotenv()\n",
    "logger.info(\"Environment variables loaded\")\n",
    "\n",
    "# Generate session ID\n",
    "session_id = str(uuid.uuid4())\n",
    "logger.info(f\"Generated session ID: {session_id}\")\n",
    "\n",
    "# Define the chat history\n",
    "chat_history = [\n",
    "    Message(role=\"system\", content=\"You are a helpful assistant.\"),\n",
    "    Message(role=\"user\", content=\"Hello, how are you?\"),\n",
    "]\n",
    "logger.debug(f\"Chat history initialized with {len(chat_history)} messages\")\n",
    "\n",
    "agent = DailyAgent()\n",
    "logger.info(\"DailyAgent initialized\")\n",
    "\n",
    "try:\n",
    "    # Generate a response from the assistant\n",
    "    response = agent.create(chat_history=chat_history)\n",
    "    logger.info(\"Successfully generated response from assistant\")\n",
    "\n",
    "    # Print the chat history including the assistant's response\n",
    "    for message in response:\n",
    "        print(f\"{message.role}: {message.content}\")\n",
    "        logger.debug(f\"Message from {message.role}: {message.content}\")\n",
    "\n",
    "    # Create conversation entry and store in MongoDB\n",
    "    mongo_manager = MongoManager()\n",
    "    conversation = ConversationEntry(\n",
    "        session_id=session_id,\n",
    "        user_id=\"default_user\",\n",
    "        messages=response,\n",
    "        text_content=\" \".join([msg.content for msg in response])\n",
    "    )\n",
    "    try:\n",
    "        mongo_manager.create_conversation(conversation)\n",
    "        logger.info(\"Created new conversation in MongoDB\")\n",
    "    except Exception as e:\n",
    "        if \"duplicate key error\" in str(e).lower():\n",
    "            mongo_manager.update_conversation(conversation)\n",
    "            logger.info(\"Updated existing conversation in MongoDB\")\n",
    "        else:\n",
    "            logger.error(f\"MongoDB operation failed: {str(e)}\")\n",
    "            raise\n",
    "    logger.info(\"Conversation stored in MongoDB\")\n",
    "\n",
    "except Exception as e:\n",
    "    logger.exception(\"Error occurred while generating response\")\n",
    "    raise"
   ]
  }
 ],
 "metadata": {
  "kernelspec": {
   "display_name": ".m_env",
   "language": "python",
   "name": "python3"
  },
  "language_info": {
   "codemirror_mode": {
    "name": "ipython",
    "version": 3
   },
   "file_extension": ".py",
   "mimetype": "text/x-python",
   "name": "python",
   "nbconvert_exporter": "python",
   "pygments_lexer": "ipython3",
   "version": "3.10.16"
  }
 },
 "nbformat": 4,
 "nbformat_minor": 2
}
