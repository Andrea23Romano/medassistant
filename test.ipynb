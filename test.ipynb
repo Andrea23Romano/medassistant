{
 "cells": [
  {
   "cell_type": "code",
   "execution_count": 2,
   "metadata": {},
   "outputs": [],
   "source": [
    "import nest_asyncio; nest_asyncio.apply()"
   ]
  },
  {
   "cell_type": "code",
   "execution_count": 7,
   "metadata": {},
   "outputs": [
    {
     "name": "stdout",
     "output_type": "stream",
     "text": [
      "Started parsing the file under job_id e14cbb3e-a5c2-4bf9-b95a-ec10126de8cb\n",
      "[Document(id_='5d1c3664-4479-48db-8d3e-259887e7b4e3', embedding=None, metadata={'file_path': 'data/docs/CV Andrea Romano 05_24.pdf', 'file_name': 'CV Andrea Romano 05_24.pdf', 'file_type': 'application/pdf', 'file_size': 769892, 'creation_date': '2024-12-16', 'last_modified_date': '2024-12-16'}, excluded_embed_metadata_keys=['file_name', 'file_type', 'file_size', 'creation_date', 'last_modified_date', 'last_accessed_date'], excluded_llm_metadata_keys=['file_name', 'file_type', 'file_size', 'creation_date', 'last_modified_date', 'last_accessed_date'], relationships={}, metadata_template='{key}: {value}', metadata_separator='\\n', text='# ANDREA ROMANO\\n\\nAI Engineer\\n\\nVia Riviera 45, 27100 Pavia (PV)  \\n(+39) 388 4486021 · andrea.23.romano@gmail.com  \\nhttps://github.com/Andrea23Romano\\n\\n----\\n\\n## PERSONAL INFORMATION\\n\\nBorn on August 23, 1990 in Piacenza (IT), Italian citizenship.\\n\\n## LANGUAGES\\n\\nItalian: mother tongue  \\nEnglish: CAE Certificate of Proficiency in English (CPE) - C2 (September 2007)\\n\\n## CURRENT POSITION\\n\\n**AI&ML Specialist - Snam S.p.A**  \\n*January 2024 - Present*  \\nTechnical advisor and manager working on GenAI-based projects. Development of AI-based POCs for internal stakeholders.\\n\\n## PREVIOUS EXPERIENCES\\n\\n**R&D AI engineer - Alkemy S.p.A**  \\n*September 2022 - January 2024*  \\nResearch and development of LLM-based services (RAG architectures, agents, metrics), time series forecasting, causal inference ML.\\n\\n**Teacher/Mentor - Associazione Culturale Matemupper**  \\n*September 2017 - August 2022*  \\nMentorship in mathematics and physics for students (HS/MSC) and enthusiasts.\\n\\n## EDUCATION\\n\\n**Master’s degree in Mathematics (110/110 con lode)**  \\n*September 2014 - February 2019*  \\nUniversità degli Studi di Milano, Milano (IT)  \\nThesis: \"Condensazione di Bose-Einstein: un problema di controllo ottimo stocastico di tipo mean-field\", advisor: Stefania Ugolini, coadvisor: Francesco De Vecchi.\\n\\n## PUBLICATIONS\\n\\nSergio Albeverio, Francesco C. De Vecchi, Andrea Romano, Stefania Ugolini \"Mean-field limit for a class of ergodic stochastic control problems\", SIAM Journal on Control and Optimization 2022 60:1, 479-504\\n\\nSergio Albeverio, Francesco C. De Vecchi, Andrea Romano, Stefania Ugolini \"Strong Kac’s Chaos in the mean-field Bose-Einstein Condensation\", Stochastics and Dynamics 2020 20:05\\n\\nFrancesco C. De Vecchi, Andrea Romano, Stefania Ugolini, \"A symmetry-adapted numerical scheme for SDEs\", Journal of Geometric Mechanics, 2019, 11 (3) : 325-359.\\n\\n## TECHNICAL SKILLS\\n\\n**Software & Programming languages:** Python: data science libraries, contributions to OSS projects (Neuralforecast). AI/ML: machine learning, forecasting, generative models, both Open Source and proprietary. Cloud: AWS, Azure. SQL.\\n\\n**Math & Science:** Probability, analysis, mathematical and statistical physics.\\n\\n## INTERESTS\\n\\nMath&Physics, Cooking, Tabletop Games', mimetype='text/plain', start_char_idx=None, end_char_idx=None, metadata_seperator='\\n', text_template='{metadata_str}\\n\\n{content}')]\n"
     ]
    }
   ],
   "source": [
    "# bring in our LLAMA_CLOUD_API_KEY\n",
    "from dotenv import load_dotenv\n",
    "import os\n",
    "load_dotenv()\n",
    "\n",
    "# bring in deps\n",
    "from llama_parse import LlamaParse\n",
    "from llama_index.core import SimpleDirectoryReader\n",
    "\n",
    "# set up parser\n",
    "parser = LlamaParse(\n",
    "    result_type=\"markdown\",  # \"markdown\" and \"text\" are available\n",
    "    premium_mode=True,  # set to True to use premium features\n",
    "    use_vendor_multimodal_model=True,\n",
    "    vendor_multimodal_model_name=\"openai-gpt4o\",\n",
    "    vendor_multimodal_api_key=os.getenv(\"OPENAI_API_KEY\"),\n",
    ")\n",
    "\n",
    "# use SimpleDirectoryReader to parse our file\n",
    "file_extractor = {\".pdf\": parser}\n",
    "documents = SimpleDirectoryReader(input_files=['data/docs/CV Andrea Romano 05_24.pdf'], file_extractor=file_extractor).load_data()\n",
    "print(documents)"
   ]
  },
  {
   "cell_type": "code",
   "execution_count": 8,
   "metadata": {},
   "outputs": [
    {
     "data": {
      "text/plain": [
       "{'id_': '5d1c3664-4479-48db-8d3e-259887e7b4e3',\n",
       " 'embedding': None,\n",
       " 'metadata': {'file_path': 'data/docs/CV Andrea Romano 05_24.pdf',\n",
       "  'file_name': 'CV Andrea Romano 05_24.pdf',\n",
       "  'file_type': 'application/pdf',\n",
       "  'file_size': 769892,\n",
       "  'creation_date': '2024-12-16',\n",
       "  'last_modified_date': '2024-12-16'},\n",
       " 'excluded_embed_metadata_keys': ['file_name',\n",
       "  'file_type',\n",
       "  'file_size',\n",
       "  'creation_date',\n",
       "  'last_modified_date',\n",
       "  'last_accessed_date'],\n",
       " 'excluded_llm_metadata_keys': ['file_name',\n",
       "  'file_type',\n",
       "  'file_size',\n",
       "  'creation_date',\n",
       "  'last_modified_date',\n",
       "  'last_accessed_date'],\n",
       " 'relationships': {},\n",
       " 'metadata_template': '{key}: {value}',\n",
       " 'metadata_separator': '\\n',\n",
       " 'text': '# ANDREA ROMANO\\n\\nAI Engineer\\n\\nVia Riviera 45, 27100 Pavia (PV)  \\n(+39) 388 4486021 · andrea.23.romano@gmail.com  \\nhttps://github.com/Andrea23Romano\\n\\n----\\n\\n## PERSONAL INFORMATION\\n\\nBorn on August 23, 1990 in Piacenza (IT), Italian citizenship.\\n\\n## LANGUAGES\\n\\nItalian: mother tongue  \\nEnglish: CAE Certificate of Proficiency in English (CPE) - C2 (September 2007)\\n\\n## CURRENT POSITION\\n\\n**AI&ML Specialist - Snam S.p.A**  \\n*January 2024 - Present*  \\nTechnical advisor and manager working on GenAI-based projects. Development of AI-based POCs for internal stakeholders.\\n\\n## PREVIOUS EXPERIENCES\\n\\n**R&D AI engineer - Alkemy S.p.A**  \\n*September 2022 - January 2024*  \\nResearch and development of LLM-based services (RAG architectures, agents, metrics), time series forecasting, causal inference ML.\\n\\n**Teacher/Mentor - Associazione Culturale Matemupper**  \\n*September 2017 - August 2022*  \\nMentorship in mathematics and physics for students (HS/MSC) and enthusiasts.\\n\\n## EDUCATION\\n\\n**Master’s degree in Mathematics (110/110 con lode)**  \\n*September 2014 - February 2019*  \\nUniversità degli Studi di Milano, Milano (IT)  \\nThesis: \"Condensazione di Bose-Einstein: un problema di controllo ottimo stocastico di tipo mean-field\", advisor: Stefania Ugolini, coadvisor: Francesco De Vecchi.\\n\\n## PUBLICATIONS\\n\\nSergio Albeverio, Francesco C. De Vecchi, Andrea Romano, Stefania Ugolini \"Mean-field limit for a class of ergodic stochastic control problems\", SIAM Journal on Control and Optimization 2022 60:1, 479-504\\n\\nSergio Albeverio, Francesco C. De Vecchi, Andrea Romano, Stefania Ugolini \"Strong Kac’s Chaos in the mean-field Bose-Einstein Condensation\", Stochastics and Dynamics 2020 20:05\\n\\nFrancesco C. De Vecchi, Andrea Romano, Stefania Ugolini, \"A symmetry-adapted numerical scheme for SDEs\", Journal of Geometric Mechanics, 2019, 11 (3) : 325-359.\\n\\n## TECHNICAL SKILLS\\n\\n**Software & Programming languages:** Python: data science libraries, contributions to OSS projects (Neuralforecast). AI/ML: machine learning, forecasting, generative models, both Open Source and proprietary. Cloud: AWS, Azure. SQL.\\n\\n**Math & Science:** Probability, analysis, mathematical and statistical physics.\\n\\n## INTERESTS\\n\\nMath&Physics, Cooking, Tabletop Games',\n",
       " 'mimetype': 'text/plain',\n",
       " 'start_char_idx': None,\n",
       " 'end_char_idx': None,\n",
       " 'metadata_seperator': '\\n',\n",
       " 'text_template': '{metadata_str}\\n\\n{content}',\n",
       " 'class_name': 'Document'}"
      ]
     },
     "execution_count": 8,
     "metadata": {},
     "output_type": "execute_result"
    }
   ],
   "source": [
    "documents[0].to_dict()"
   ]
  },
  {
   "cell_type": "code",
   "execution_count": null,
   "metadata": {},
   "outputs": [],
   "source": []
  }
 ],
 "metadata": {
  "kernelspec": {
   "display_name": ".m_env",
   "language": "python",
   "name": "python3"
  },
  "language_info": {
   "codemirror_mode": {
    "name": "ipython",
    "version": 3
   },
   "file_extension": ".py",
   "mimetype": "text/x-python",
   "name": "python",
   "nbconvert_exporter": "python",
   "pygments_lexer": "ipython3",
   "version": "3.10.16"
  }
 },
 "nbformat": 4,
 "nbformat_minor": 2
}
