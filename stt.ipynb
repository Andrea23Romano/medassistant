{
 "cells": [
  {
   "cell_type": "code",
   "execution_count": 1,
   "metadata": {},
   "outputs": [
    {
     "name": "stderr",
     "output_type": "stream",
     "text": [
      "/mnt/c/Users/spark/Documents/medassistant/.m_env/lib/python3.10/site-packages/tqdm/auto.py:21: TqdmWarning: IProgress not found. Please update jupyter and ipywidgets. See https://ipywidgets.readthedocs.io/en/stable/user_install.html\n",
      "  from .autonotebook import tqdm as notebook_tqdm\n"
     ]
    },
    {
     "name": "stdout",
     "output_type": "stream",
     "text": [
      "Recording... Press Ctrl+C to stop\n",
      "\n",
      "Recording new chunk...\n"
     ]
    },
    {
     "name": "stderr",
     "output_type": "stream",
     "text": [
      "The attention mask is not set and cannot be inferred from input because pad token is same as eos token. As a consequence, you may observe unexpected behavior. Please pass your input's `attention_mask` to obtain reliable results.\n"
     ]
    },
    {
     "name": "stdout",
     "output_type": "stream",
     "text": [
      "Transcription:  ...\n",
      "\n",
      "Recording new chunk...\n",
      "Transcription:  Sì, non ho fatto.\n",
      "\n",
      "Recording new chunk...\n",
      "Transcription:  Sì, non ho fatto.\n",
      "\n",
      "Recording new chunk...\n",
      "\n",
      "Stopping transcription\n"
     ]
    }
   ],
   "source": [
    "from transformers import WhisperProcessor, WhisperForConditionalGeneration\n",
    "import sounddevice as sd\n",
    "import numpy as np\n",
    "\n",
    "# Load model and processor\n",
    "processor = WhisperProcessor.from_pretrained(\"openai/whisper-tiny\")\n",
    "model = WhisperForConditionalGeneration.from_pretrained(\"openai/whisper-tiny\")\n",
    "forced_decoder_ids = processor.get_decoder_prompt_ids(language=\"italian\", task=\"transcribe\")\n",
    "\n",
    "def record_audio(duration=5, samplerate=16000):\n",
    "    \"\"\"Record audio from microphone\"\"\"\n",
    "    recording = sd.rec(int(duration * samplerate), samplerate=samplerate, channels=1)\n",
    "    sd.wait()\n",
    "    return recording.flatten()\n",
    "\n",
    "def transcribe_audio(audio_chunk):\n",
    "    \"\"\"Transcribe a single audio chunk\"\"\"\n",
    "    input_features = processor(\n",
    "        audio_chunk, \n",
    "        sampling_rate=16000, \n",
    "        return_tensors=\"pt\"\n",
    "    ).input_features\n",
    "    \n",
    "    predicted_ids = model.generate(input_features, forced_decoder_ids=forced_decoder_ids)\n",
    "    transcription = processor.batch_decode(predicted_ids, skip_special_tokens=True)\n",
    "    return transcription[0]\n",
    "\n",
    "def continuous_transcription(chunk_duration=5):\n",
    "    \"\"\"Continuously record and transcribe audio in chunks\"\"\"\n",
    "    print(\"Recording... Press Ctrl+C to stop\")\n",
    "    try:\n",
    "        while True:\n",
    "            print(\"\\nRecording new chunk...\")\n",
    "            audio_chunk = record_audio(duration=chunk_duration)\n",
    "            text = transcribe_audio(audio_chunk)\n",
    "            print(f\"Transcription: {text}\")\n",
    "    except KeyboardInterrupt:\n",
    "        print(\"\\nStopping transcription\")\n",
    "\n",
    "# Start transcription\n",
    "continuous_transcription()\n"
   ]
  }
 ],
 "metadata": {
  "kernelspec": {
   "display_name": ".m_env",
   "language": "python",
   "name": "python3"
  },
  "language_info": {
   "codemirror_mode": {
    "name": "ipython",
    "version": 3
   },
   "file_extension": ".py",
   "mimetype": "text/x-python",
   "name": "python",
   "nbconvert_exporter": "python",
   "pygments_lexer": "ipython3",
   "version": "3.10.16"
  }
 },
 "nbformat": 4,
 "nbformat_minor": 2
}
